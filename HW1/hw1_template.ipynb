{
  "cells": [
    {
      "cell_type": "markdown",
      "metadata": {
        "id": "X_Te27fi-0pP"
      },
      "source": [
        "# **HW1: Regression**\n",
        "In *assignment 1*, you need to finish:\n",
        "\n",
        "1.  Basic Part: Implement two regression models to predict the Systolic blood pressure (SBP) of a patient. You will need to implement **both Matrix Inversion and Gradient Descent**.\n",
        "\n",
        "\n",
        "> *   Step 1: Split Data\n",
        "> *   Step 2: Preprocess Data\n",
        "> *   Step 3: Implement Regression\n",
        "> *   Step 4: Make Prediction\n",
        "> *   Step 5: Train Model and Generate Result\n",
        "\n",
        "2.  Advanced Part: Implement one regression model to predict the SBP of multiple patients in a different way than the basic part. You can choose **either** of the two methods for this part."
      ]
    },
    {
      "cell_type": "markdown",
      "metadata": {
        "id": "_wDdnos-4uUv"
      },
      "source": [
        "# **1. Basic Part (55%)**\n",
        "In the first part, you need to implement the regression to predict SBP from the given DBP\n"
      ]
    },
    {
      "cell_type": "markdown",
      "metadata": {
        "id": "C_EVqWlB-DTF"
      },
      "source": [
        "## 1.1 Matrix Inversion Method (25%)\n",
        "\n",
        "\n",
        "*   Save the prediction result in a csv file **hw1_basic_mi.csv**\n",
        "*   Print your coefficient\n"
      ]
    },
    {
      "cell_type": "markdown",
      "metadata": {
        "id": "RzCR7vk9BFkf"
      },
      "source": [
        "### *Import Packages*\n",
        "\n",
        "> Note: You **cannot** import any other package"
      ]
    },
    {
      "cell_type": "code",
      "execution_count": 323,
      "metadata": {
        "id": "HL5XjqFf4wSj"
      },
      "outputs": [],
      "source": [
        "import numpy as np\n",
        "import matplotlib.pyplot as plt\n",
        "import pandas as pd\n",
        "import csv\n",
        "import math\n",
        "import random"
      ]
    },
    {
      "cell_type": "markdown",
      "metadata": {
        "id": "jnWjrzi0dMPz"
      },
      "source": [
        "### *Global attributes*\n",
        "Define the global attributes"
      ]
    },
    {
      "cell_type": "code",
      "execution_count": 324,
      "metadata": {
        "id": "EWLDPOlHBbcK"
      },
      "outputs": [],
      "source": [
        "training_dataroot = 'hw1_basic_training.csv' # Training data file file named as 'hw1_basic_training.csv'\n",
        "testing_dataroot = 'hw1_basic_testing.csv'   # Testing data file named as 'hw1_basic_training.csv'\n",
        "output_dataroot = 'hw1_basic_mi.csv' # Output file will be named as 'hw1_basic.csv'\n",
        "\n",
        "training_datalist =  [] # Training datalist, saved as numpy array\n",
        "testing_datalist =  [] # Testing datalist, saved as numpy array\n",
        "\n",
        "output_datalist =  [] # Your prediction, should be 20 * 3 matrix and saved as numpy array\n",
        "                      # The format of each row should be ['subject_id', 'charttime', 'sbp']"
      ]
    },
    {
      "cell_type": "markdown",
      "metadata": {
        "id": "PsFC-cvqIcYK"
      },
      "source": [
        "You can add your own global attributes here\n"
      ]
    },
    {
      "cell_type": "code",
      "execution_count": 325,
      "metadata": {
        "id": "OUbS2BEgcut6"
      },
      "outputs": [],
      "source": [
        "training_dataset_1 = []     # The first 80% of training_datalist\n",
        "validation_dataset_1 = []   # The last 20% of training_datalist\n",
        "\n",
        "training_dataset_2 = []     # Randomly selected 80% of training_datalist\n",
        "validation_dataset_2 = []   # The rest of training_datalist\n",
        "\n",
        "training_dataset_3 = []     # Randomly selected 70% of training_datalist\n",
        "validation_dataset_3 = []   # The rest of training_datalist\n",
        "\n",
        "training_dataset_4 = []     # Randomly selected 60% of training_datalist\n",
        "validation_dataset_4 = []   # The rest of training_datalist\n",
        "\n",
        "training_data_num = 0"
      ]
    },
    {
      "cell_type": "markdown",
      "metadata": {
        "id": "rUoRFoQjBW5S"
      },
      "source": [
        "### *Load the Input File*\n",
        "First, load the basic input file **hw1_basic_training.csv** and **hw1_basic_testing.csv**\n",
        "\n",
        "Input data would be stored in *training_datalist* and *testing_datalist*"
      ]
    },
    {
      "cell_type": "code",
      "execution_count": 326,
      "metadata": {
        "id": "dekR1KnqBtI6"
      },
      "outputs": [],
      "source": [
        "# Read input csv to datalist\n",
        "with open(training_dataroot, newline='') as csvfile:\n",
        "\tglobal training_datalist, training_data_num\n",
        "\t\n",
        "\ttraining_datalist = np.array(list(csv.reader(csvfile)))\n",
        "\ttraining_datalist = np.delete(training_datalist, 0, 0)\n",
        "\ttraining_data_num = training_datalist.shape[0]\n",
        "\n",
        "with open(testing_dataroot, newline='') as csvfile:\n",
        "\tglobal testing_datalist\n",
        "\n",
        "\ttesting_datalist = np.array(list(csv.reader(csvfile)))\n",
        "\ttesting_datalist = np.delete(testing_datalist, 0, 0)\n",
        "\t  \n",
        "# print(training_datalist.shape[0], training_data_num)\n",
        "# print(testing_datalist)"
      ]
    },
    {
      "cell_type": "markdown",
      "metadata": {
        "id": "6kYPuikLCFx4"
      },
      "source": [
        "### *Implement the Regression Model*\n",
        "\n",
        "> Note: It is recommended to use the functions we defined, you can also define your own functions\n"
      ]
    },
    {
      "cell_type": "markdown",
      "metadata": {
        "id": "jWwdx06JNEYs"
      },
      "source": [
        "#### Step 1: Split Data\n",
        "Split data in *training_datalist* into training dataset and validation dataset\n",
        "* Validation dataset is used to validate your own model without the testing data\n",
        "\n"
      ]
    },
    {
      "cell_type": "code",
      "execution_count": 327,
      "metadata": {
        "id": "USDciENcB-5F"
      },
      "outputs": [],
      "source": [
        "def SplitData():\n",
        "    def RandomSplitData(propotion):\n",
        "        # We have to deepcopy the training_datalist since we don't want to change the original one\n",
        "        training_datalist_copy = training_datalist.copy()\n",
        "        \n",
        "        random_times = random.randint(1, 10)\n",
        "        for i in range(random_times):\n",
        "            # Since the copy is a numpy array, we have to use np.random.shuffle instead of random.shuffle\n",
        "            # Or it will have some repeated elements after shuffling\n",
        "            np.random.shuffle(training_datalist_copy)\n",
        "\n",
        "        return training_datalist_copy[ : propotion], training_datalist_copy[propotion : ]\n",
        "\n",
        "    # We have to minus 1 since the first row is the name of each column\n",
        "    global training_data_num\n",
        "    propotion_80 = int(training_data_num * 0.8 + 0.5)   # 0.5 is for rounding\n",
        "    propotion_70 = int(training_data_num * 0.7 + 0.5)\n",
        "    propotion_60 = int(training_data_num * 0.6 + 0.5)\n",
        "    \n",
        "    global training_datalist\n",
        "    global training_dataset_1, validation_dataset_1\n",
        "    global training_dataset_2, validation_dataset_2\n",
        "    global training_dataset_3, validation_dataset_3 \n",
        "    global training_dataset_4, validation_dataset_4\n",
        "\n",
        "    training_dataset_1 = training_datalist[0 : propotion_80 ]\n",
        "    validation_dataset_1 = training_datalist[propotion_80 : ]\n",
        "    training_dataset_2, validation_dataset_2 = RandomSplitData(propotion_80)\n",
        "    training_dataset_3, validation_dataset_3 = RandomSplitData(propotion_70)\n",
        "    training_dataset_4, validation_dataset_4 = RandomSplitData(propotion_60)\n",
        "\n",
        "# SplitData()\n",
        "# print(len(training_dataset_1), len(validation_dataset_1))\n",
        "# print(len(training_dataset_2), len(validation_dataset_2))\n",
        "# print(len(training_dataset_3), len(validation_dataset_3))\n",
        "# print(len(training_dataset_4), len(validation_dataset_4))\n",
        "#print(validation_dataset_2)"
      ]
    },
    {
      "cell_type": "markdown",
      "metadata": {
        "id": "u-3Qln4aNgVy"
      },
      "source": [
        "#### Step 2: Preprocess Data\n",
        "Handle the unreasonable data\n",
        "> Hint: Outlier and missing data can be handled by removing the data or adding the values with the help of statistics  "
      ]
    },
    {
      "cell_type": "code",
      "execution_count": 328,
      "metadata": {
        "id": "XXvW1n_5NkQ5"
      },
      "outputs": [],
      "source": [
        "def PreprocessData():\n",
        "    '''\n",
        "    # ref\n",
        "    1. https://andy6804tw.github.io/2021/04/02/python-outliers-clean/ \\n\n",
        "    2. https://chat.openai.com/share/76e7e9a6-7e42-4cdc-a2bb-72af60082814\n",
        "\n",
        "    By searching some technique, I decided to remove the outliers by using IQR\n",
        "    Since I roughly check the training data and found that the outliers are not too much\n",
        "    If just one of the number in the row is outlier, I will modify its value based on another number in the same row\n",
        "    '''\n",
        "    \n",
        "    global training_datalist, training_data_num\n",
        "    dbp_list = np.array([float(training_datalist[i][0]) for i in range(training_data_num)])\n",
        "    sbp_list = np.array([float(training_datalist[i][1]) for i in range(training_data_num)])\n",
        "\n",
        "    dbp_IQR = np.percentile(dbp_list, 75) - np.percentile(dbp_list, 25)\n",
        "    sbp_IQR = np.percentile(sbp_list, 75) - np.percentile(sbp_list, 25)\n",
        "\n",
        "    dbp_upper = np.percentile(dbp_list, 75) + 1.5 * dbp_IQR\n",
        "    dbp_lower = np.percentile(dbp_list, 25) - 1.5 * dbp_IQR\n",
        "    sbp_upper = np.percentile(sbp_list, 75) + 1.5 * sbp_IQR\n",
        "    sbp_lower = np.percentile(sbp_list, 25) - 1.5 * sbp_IQR\n",
        "    # print(dbp_upper, dbp_lower)\n",
        "    # print(sbp_upper, sbp_lower)\n",
        "\n",
        "    tem_list = list()\n",
        "    for i in range(training_data_num):\n",
        "        diff_with_mean_dbp = (dbp_list[i] - np.mean(dbp_list)) / dbp_IQR\n",
        "        diff_with_mean_sbp = (sbp_list[i] - np.mean(sbp_list)) / sbp_IQR\n",
        "        is_outlier_dbp = bool(dbp_list[i] > dbp_upper or dbp_list[i] < dbp_lower)\n",
        "        is_outlier_sbp = bool(sbp_list[i] > sbp_upper or sbp_list[i] < sbp_lower)\n",
        "\n",
        "        if is_outlier_dbp and is_outlier_sbp:\n",
        "            continue\n",
        "        elif is_outlier_dbp:\n",
        "            dbp_list[i] = int(np.mean(dbp_list) + diff_with_mean_sbp * dbp_IQR + 0.5)\n",
        "        elif is_outlier_sbp:\n",
        "            sbp_list[i] = int(np.mean(sbp_list) + diff_with_mean_dbp * sbp_IQR + 0.5)\n",
        "\n",
        "        tem_list.append([sbp_list[i], dbp_list[i]])\n",
        "\n",
        "    training_datalist = np.array(tem_list)\n",
        "    training_data_num = training_datalist.shape[0]\n",
        "\n",
        "# PreprocessData()\n",
        "# print(training_datalist.shape[0], training_data_num, end = '\\n\\n')\n",
        "# print(training_datalist)"
      ]
    },
    {
      "cell_type": "markdown",
      "metadata": {
        "id": "yDLpJmQUN3V6"
      },
      "source": [
        "#### Step 3: Implement Regression\n",
        "> use Matrix Inversion to finish this part\n",
        "\n",
        "\n"
      ]
    },
    {
      "cell_type": "code",
      "execution_count": 329,
      "metadata": {
        "id": "Tx9n1_23N8C0"
      },
      "outputs": [],
      "source": [
        "def MatrixInversion():\n",
        "    global training_dataset_1\n",
        "    global training_dataset_2\n",
        "    global training_dataset_3\n",
        "    global training_dataset_4\n",
        "\n",
        "    phi_1 = np.array([[1, float(training_dataset_1[i][0])] for i in range(len(training_dataset_1))]); phi_1_T = phi_1.T\n",
        "    phi_2 = np.array([[1, float(training_dataset_2[i][0])] for i in range(len(training_dataset_2))]); phi_2_T = phi_2.T\n",
        "    phi_3 = np.array([[1, float(training_dataset_3[i][0])] for i in range(len(training_dataset_3))]); phi_3_T = phi_3.T\n",
        "    phi_4 = np.array([[1, float(training_dataset_4[i][0])] for i in range(len(training_dataset_4))]); phi_4_T = phi_4.T\n",
        "    y1 = np.array([float(training_dataset_1[i][1]) for i in range(len(training_dataset_1))])\n",
        "    y2 = np.array([float(training_dataset_2[i][1]) for i in range(len(training_dataset_2))])\n",
        "    y3 = np.array([float(training_dataset_3[i][1]) for i in range(len(training_dataset_3))])\n",
        "    y4 = np.array([float(training_dataset_4[i][1]) for i in range(len(training_dataset_4))])\n",
        "\n",
        "    w1 = np.dot( np.dot( np.linalg.inv(np.dot(phi_1_T, phi_1)), phi_1_T), y1)\n",
        "    w2 = np.dot( np.dot( np.linalg.inv(np.dot(phi_2_T, phi_2)), phi_2_T), y2)\n",
        "    w3 = np.dot( np.dot( np.linalg.inv(np.dot(phi_3_T, phi_3)), phi_3_T), y3)\n",
        "    w4 = np.dot( np.dot( np.linalg.inv(np.dot(phi_4_T, phi_4)), phi_4_T), y4)\n",
        "\n",
        "    return [(w1[0] + w1[0] + w2[0] + w3[0]) / 4, (w1[1] + w1[1] + w2[1] + w3[1]) / 4]"
      ]
    },
    {
      "cell_type": "markdown",
      "metadata": {
        "id": "2NxRNFwyN8xd"
      },
      "source": [
        "#### Step 4: Make Prediction\n",
        "Make prediction of testing dataset and store the value in *output_datalist*\n",
        "The final *output_datalist* should look something like this \n",
        "> [ [100], [80], ... , [90] ] where each row contains the predicted SBP"
      ]
    },
    {
      "cell_type": "code",
      "execution_count": 330,
      "metadata": {
        "id": "EKlDIC2-N_lk"
      },
      "outputs": [],
      "source": [
        "def MakePrediction(coefficients):\n",
        "    global testing_datalist, output_datalist\n",
        "\n",
        "    testing_dbp = np.array([ [1, int(testing_datalist[i][0])] for i in range(len(testing_datalist)) ])\n",
        "    coe = np.array([[coefficients[0]], [coefficients[1]]])\n",
        "    result = np.dot(testing_dbp, coe)\n",
        "    print(result)\n"
      ]
    },
    {
      "cell_type": "markdown",
      "metadata": {
        "id": "cCd0Z6izOCwq"
      },
      "source": [
        "#### Step 5: Train Model and Generate Result\n",
        "\n",
        "> Notice: **Remember to output the coefficients of the model here**, otherwise 5 points would be deducted\n",
        "* If your regression model is *3x^2 + 2x^1 + 1*, your output would be:\n",
        "```\n",
        "3 2 1\n",
        "```\n",
        "\n",
        "\n",
        "\n"
      ]
    },
    {
      "cell_type": "code",
      "execution_count": 331,
      "metadata": {
        "id": "iCL92EPKOFIn"
      },
      "outputs": [
        {
          "name": "stdout",
          "output_type": "stream",
          "text": [
            "[-7.029492346312112, 0.6917490234284271]\n"
          ]
        },
        {
          "ename": "ValueError",
          "evalue": "data type must provide an itemsize",
          "output_type": "error",
          "traceback": [
            "\u001b[0;31m---------------------------------------------------------------------------\u001b[0m",
            "\u001b[0;31mValueError\u001b[0m                                Traceback (most recent call last)",
            "\u001b[1;32m/home/gmyhp/Machine Learning/HW1/hw1_template.ipynb Cell 22\u001b[0m line \u001b[0;36m7\n\u001b[1;32m      <a href='vscode-notebook-cell:/home/gmyhp/Machine%20Learning/HW1/hw1_template.ipynb#X30sZmlsZQ%3D%3D?line=3'>4</a>\u001b[0m coefficients \u001b[39m=\u001b[39m MatrixInversion()\n\u001b[1;32m      <a href='vscode-notebook-cell:/home/gmyhp/Machine%20Learning/HW1/hw1_template.ipynb#X30sZmlsZQ%3D%3D?line=4'>5</a>\u001b[0m \u001b[39mprint\u001b[39m(coefficients)\n\u001b[0;32m----> <a href='vscode-notebook-cell:/home/gmyhp/Machine%20Learning/HW1/hw1_template.ipynb#X30sZmlsZQ%3D%3D?line=6'>7</a>\u001b[0m MakePrediction(coefficients)\n\u001b[1;32m      <a href='vscode-notebook-cell:/home/gmyhp/Machine%20Learning/HW1/hw1_template.ipynb#X30sZmlsZQ%3D%3D?line=7'>8</a>\u001b[0m \u001b[39mprint\u001b[39m(output_datalist)\n",
            "\u001b[1;32m/home/gmyhp/Machine Learning/HW1/hw1_template.ipynb Cell 22\u001b[0m line \u001b[0;36m6\n\u001b[1;32m      <a href='vscode-notebook-cell:/home/gmyhp/Machine%20Learning/HW1/hw1_template.ipynb#X30sZmlsZQ%3D%3D?line=3'>4</a>\u001b[0m testing_dbp \u001b[39m=\u001b[39m np\u001b[39m.\u001b[39marray([ [\u001b[39m1\u001b[39m, testing_datalist[i][\u001b[39m0\u001b[39m]] \u001b[39mfor\u001b[39;00m i \u001b[39min\u001b[39;00m \u001b[39mrange\u001b[39m(\u001b[39mlen\u001b[39m(testing_datalist)) ])\n\u001b[1;32m      <a href='vscode-notebook-cell:/home/gmyhp/Machine%20Learning/HW1/hw1_template.ipynb#X30sZmlsZQ%3D%3D?line=4'>5</a>\u001b[0m coe \u001b[39m=\u001b[39m np\u001b[39m.\u001b[39marray([[coefficients[\u001b[39m0\u001b[39m]], [coefficients[\u001b[39m1\u001b[39m]]])\n\u001b[0;32m----> <a href='vscode-notebook-cell:/home/gmyhp/Machine%20Learning/HW1/hw1_template.ipynb#X30sZmlsZQ%3D%3D?line=5'>6</a>\u001b[0m result \u001b[39m=\u001b[39m np\u001b[39m.\u001b[39;49mdot(testing_dbp, coe)\n\u001b[1;32m      <a href='vscode-notebook-cell:/home/gmyhp/Machine%20Learning/HW1/hw1_template.ipynb#X30sZmlsZQ%3D%3D?line=6'>7</a>\u001b[0m \u001b[39mprint\u001b[39m(result)\n",
            "\u001b[0;31mValueError\u001b[0m: data type must provide an itemsize"
          ]
        }
      ],
      "source": [
        "PreprocessData()\n",
        "SplitData()\n",
        "\n",
        "coefficients = MatrixInversion()\n",
        "print(coefficients)\n",
        "\n",
        "MakePrediction(coefficients)\n",
        "print(output_datalist)"
      ]
    },
    {
      "cell_type": "markdown",
      "metadata": {
        "id": "J8Jhd8wAOk3D"
      },
      "source": [
        "### *Write the Output File*\n",
        "Write the prediction to output csv\n",
        "> Format: 'sbp'\n",
        "\n",
        "\n"
      ]
    },
    {
      "cell_type": "code",
      "execution_count": null,
      "metadata": {
        "id": "tYQVYLlKOtDB"
      },
      "outputs": [],
      "source": [
        "with open(output_dataroot, 'w', newline='', encoding=\"utf-8\") as csvfile:\n",
        "\twriter = csv.writer(csvfile)\n",
        "\tfor row in output_datalist:\n",
        "\t\twriter.writerow(row)"
      ]
    },
    {
      "cell_type": "markdown",
      "metadata": {
        "id": "1J3WOhglA9ML"
      },
      "source": [
        "## 1.2 Gradient Descent Method (30%)\n",
        "\n",
        "\n",
        "*   Save the prediction result in a csv file **hw1_basic_gd.csv**\n",
        "*   Output your coefficient update in a csv file **hw1_basic_coefficient.csv**\n",
        "*   Print your coefficient\n",
        "\n",
        "\n",
        "\n"
      ]
    },
    {
      "cell_type": "markdown",
      "metadata": {
        "id": "TkMqa_xjXhEv"
      },
      "source": [
        "### *Global attributes*"
      ]
    },
    {
      "cell_type": "code",
      "execution_count": null,
      "metadata": {
        "id": "wNZtRWUeXpEu"
      },
      "outputs": [],
      "source": [
        "output_dataroot = 'hw1_basic_gd.csv' # Output file will be named as 'hw1_basic.csv'\n",
        "coefficient_output_dataroot = 'hw1_basic_coefficient.csv'\n",
        "\n",
        "training_datalist =  [] # Training datalist, saved as numpy array\n",
        "testing_datalist =  [] # Testing datalist, saved as numpy array\n",
        "\n",
        "output_datalist =  [] # Your prediction, should be 20 * 3 matrix and saved as numpy array\n",
        "                      # The format of each row should be ['subject_id', 'charttime', 'sbp']\n",
        "\n",
        "coefficient_output = [] # Your coefficient update during gradient descent\n",
        "                   # Should be a (number of iterations * number_of coefficient) matrix\n",
        "                   # The format of each row should be ['w0', 'w1', ...., 'wn']"
      ]
    },
    {
      "cell_type": "markdown",
      "metadata": {
        "id": "I5DeHxdLdai3"
      },
      "source": [
        "Your own global attributes"
      ]
    },
    {
      "cell_type": "code",
      "execution_count": null,
      "metadata": {
        "id": "_2IO5tYSdaFd"
      },
      "outputs": [],
      "source": []
    },
    {
      "cell_type": "markdown",
      "metadata": {
        "id": "RVBLT1aqXuW0"
      },
      "source": [
        "### *Implement the Regression Model*\n"
      ]
    },
    {
      "cell_type": "markdown",
      "metadata": {
        "id": "ecPWpcOnXhCZ"
      },
      "source": [
        "#### Step 1: Split Data"
      ]
    },
    {
      "cell_type": "code",
      "execution_count": null,
      "metadata": {
        "id": "1PEf_qGvYHu0"
      },
      "outputs": [],
      "source": [
        "def SplitData():\n",
        "    pass"
      ]
    },
    {
      "cell_type": "markdown",
      "metadata": {
        "id": "lpSoPDPKX56w"
      },
      "source": [
        "#### Step 2: Preprocess Data"
      ]
    },
    {
      "cell_type": "code",
      "execution_count": null,
      "metadata": {
        "id": "uLTXOWRwYHiS"
      },
      "outputs": [],
      "source": [
        "def PreprocessData():\n",
        "    pass"
      ]
    },
    {
      "cell_type": "markdown",
      "metadata": {
        "id": "TV_y82gXX6a-"
      },
      "source": [
        "#### Step 3: Implement Regression\n",
        "> use Gradient Descent to finish this part"
      ]
    },
    {
      "cell_type": "code",
      "execution_count": null,
      "metadata": {
        "id": "-635Ee00YHTE"
      },
      "outputs": [],
      "source": [
        "def GradientDescent():\n",
        "    pass"
      ]
    },
    {
      "cell_type": "markdown",
      "metadata": {
        "id": "nLuPxs2ZX21S"
      },
      "source": [
        "#### Step 4: Make Prediction\n",
        "\n",
        "Make prediction of testing dataset and store the values in *output_datalist*\n",
        "The final *output_datalist* should look something like this \n",
        "> [ [100], [80], ... , [90] ] where each row contains the predicted SBP\n",
        "\n",
        "Remember to also store your coefficient update in *coefficient_output*\n",
        "The final *coefficient_output* should look something like this\n",
        "> [ [1, 0, 3, 5], ... , [0.1, 0.3, 0.2, 0.5] ] where each row contains the [w0, w1, ..., wn] of your coefficient\n",
        "\n",
        "\n",
        "\n"
      ]
    },
    {
      "cell_type": "code",
      "execution_count": null,
      "metadata": {
        "id": "8pnNDlQeYGtE"
      },
      "outputs": [],
      "source": [
        "def MakePrediction():\n",
        "    pass"
      ]
    },
    {
      "cell_type": "markdown",
      "metadata": {
        "id": "IScbxxMAYAgZ"
      },
      "source": [
        "#### Step 5: Train Model and Generate Result\n",
        "\n",
        "> Notice: **Remember to output the coefficients of the model here**, otherwise 5 points would be deducted\n",
        "* If your regression model is *3x^2 + 2x^1 + 1*, your output would be:\n",
        "```\n",
        "3 2 1\n",
        "```\n",
        "\n"
      ]
    },
    {
      "cell_type": "code",
      "execution_count": null,
      "metadata": {
        "id": "90EisOc7YG-N"
      },
      "outputs": [],
      "source": []
    },
    {
      "cell_type": "markdown",
      "metadata": {
        "id": "_1DpV_HcYFpl"
      },
      "source": [
        "### *Write the Output File*\n",
        "\n",
        "Write the prediction to output csv\n",
        "> Format: 'sbp'\n",
        "\n",
        "**Write the coefficient update to csv**\n",
        "> Format: 'w0', 'w1', ..., 'wn'\n",
        ">*   The number of columns is based on your number of coefficient\n",
        ">*   The number of row is based on your number of iterations"
      ]
    },
    {
      "cell_type": "code",
      "execution_count": null,
      "metadata": {
        "id": "NLSHgpDvDXNI"
      },
      "outputs": [],
      "source": [
        "with open(output_dataroot, 'w', newline='', encoding=\"utf-8\") as csvfile:\n",
        "\twriter = csv.writer(csvfile)\n",
        "\tfor row in output_datalist:\n",
        "\t\twriter.writerow(row)\n",
        "\n",
        "with open(coefficient_output_dataroot, 'w', newline='', encoding=\"utf-8\") as csvfile:\n",
        "\twriter = csv.writer(csvfile)\n",
        "\tfor row in coefficient_output:\n",
        "\t\twriter.writerow(row)"
      ]
    },
    {
      "cell_type": "markdown",
      "metadata": {
        "id": "rx4408qg4xMQ"
      },
      "source": [
        "# **2. Advanced Part (40%)**\n",
        "In the second part, you need to implement the regression in a different way than the basic part to help your predictions of multiple patients SBP.\n",
        "\n",
        "You can choose **either** Matrix Inversion or Gradient Descent method.\n",
        "\n",
        "The training data will be in **hw1_advanced_training.csv** and the testing data will be in **hw1_advanced_testing.csv**.\n",
        "\n",
        "Output your prediction in **hw1_advanced.csv**\n",
        "\n",
        "Notice:\n",
        "> You cannot import any other package other than those given\n",
        "\n"
      ]
    },
    {
      "cell_type": "markdown",
      "metadata": {},
      "source": [
        "### Input the training and testing dataset"
      ]
    },
    {
      "cell_type": "code",
      "execution_count": null,
      "metadata": {
        "id": "v66HUClZcxaE"
      },
      "outputs": [],
      "source": [
        "training_dataroot = 'hw1_advanced_training.csv' # Training data file file named as 'hw1_basic_training.csv'\n",
        "testing_dataroot = 'hw1_advanced_testing.csv'   # Testing data file named as 'hw1_basic_training.csv'\n",
        "output_dataroot = 'hw1_advanced.csv' # Output file will be named as 'hw1_basic.csv'\n",
        "\n",
        "training_datalist =  [] # Training datalist, saved as numpy array\n",
        "testing_datalist =  [] # Testing datalist, saved as numpy array\n",
        "\n",
        "output_datalist =  [] # Your prediction, should be 220 * 1 matrix and saved as numpy array\n",
        "                      # The format of each row should be ['sbp']"
      ]
    },
    {
      "cell_type": "markdown",
      "metadata": {},
      "source": [
        "### Your Implementation"
      ]
    },
    {
      "cell_type": "code",
      "execution_count": null,
      "metadata": {},
      "outputs": [],
      "source": []
    },
    {
      "cell_type": "markdown",
      "metadata": {},
      "source": [
        "### Output your Prediction\n",
        "\n",
        "> your filename should be **hw1_advanced.csv**"
      ]
    },
    {
      "cell_type": "code",
      "execution_count": null,
      "metadata": {},
      "outputs": [],
      "source": [
        "with open(output_dataroot, 'w', newline='', encoding=\"utf-8\") as csvfile:\n",
        "\twriter = csv.writer(csvfile)\n",
        "\tfor row in output_datalist:\n",
        "\t\twriter.writerow(row)"
      ]
    },
    {
      "cell_type": "markdown",
      "metadata": {
        "id": "EtgCJU7FPeJL"
      },
      "source": [
        "# Report *(5%)*\n",
        "\n",
        "Report should be submitted as a pdf file **hw1_report.pdf**\n",
        "\n",
        "*   Briefly describe the difficulty you encountered\n",
        "*   Summarize your work and your reflections\n",
        "*   No more than one page\n",
        "\n",
        "\n",
        "\n",
        "\n"
      ]
    },
    {
      "cell_type": "markdown",
      "metadata": {
        "id": "hlEE53_MPf4W"
      },
      "source": [
        "# Save the Code File\n",
        "Please save your code and submit it as an ipynb file! (**hw1.ipynb**)"
      ]
    }
  ],
  "metadata": {
    "colab": {
      "provenance": [],
      "toc_visible": true
    },
    "kernelspec": {
      "display_name": "Python 3",
      "name": "python3"
    },
    "language_info": {
      "codemirror_mode": {
        "name": "ipython",
        "version": 3
      },
      "file_extension": ".py",
      "mimetype": "text/x-python",
      "name": "python",
      "nbconvert_exporter": "python",
      "pygments_lexer": "ipython3",
      "version": "3.10.12"
    }
  },
  "nbformat": 4,
  "nbformat_minor": 0
}

{
 "cells": [
  {
   "cell_type": "code",
   "execution_count": null,
   "id": "a1776ca3",
   "metadata": {},
   "outputs": [],
   "source": [
    "import numpy as np\n",
    "import matplotlib.pyplot as plt\n",
    "from sklearn.metrics import f1_score\n",
    "import math"
   ]
  },
  {
   "cell_type": "code",
   "execution_count": 1,
   "id": "c7ddb041",
   "metadata": {},
   "outputs": [],
   "source": [
    "def compute_focal_loss(AL, Y, alpha, gamma):\n",
    "\n",
    "    # Compute loss from aL and y.\n",
    "    ### START CODE HERE ### (10 line of code)\n",
    "    loss = 0.\n",
    "\n",
    "    epsilon = 1e-5\n",
    "    for i, label in enumerate(Y):\n",
    "        true_label_idx = np.where(label == 1.0)[0]\n",
    "        if len(true_label_idx) == 0:\n",
    "            continue\n",
    "        true_label_idx = true_label_idx[0]\n",
    "\n",
    "        loss += alpha[true_label_idx] * (1 - AL[i][true_label_idx]) ** gamma * np.log(AL[i][true_label_idx] + epsilon)\n",
    "\n",
    "    loss /= -len(Y)\n",
    "    ### END CODE HERE ###\n",
    "\n",
    "    loss = np.squeeze(loss)\n",
    "    assert(loss.shape == ()), f'loss.shape should be (), but got {loss.shape}'\n",
    "\n",
    "    return loss"
   ]
  },
  {
   "cell_type": "code",
   "execution_count": null,
   "id": "83866a19",
   "metadata": {},
   "outputs": [],
   "source": [
    "def compute_focal_loss(AL, Y, alpha, gamma):\n",
    "\n",
    "    # Compute loss from aL and y.\n",
    "    ### START CODE HERE ### (10 line of code)\n",
    "    loss = None\n",
    "    ### END CODE HERE ###\n",
    "\n",
    "    loss = np.squeeze(loss)\n",
    "    assert(loss.shape == ())\n",
    "\n",
    "    return loss"
   ]
  }
 ],
 "metadata": {
  "kernelspec": {
   "display_name": "Python 3 (ipykernel)",
   "language": "python",
   "name": "python3"
  },
  "language_info": {
   "codemirror_mode": {
    "name": "ipython",
    "version": 3
   },
   "file_extension": ".py",
   "mimetype": "text/x-python",
   "name": "python",
   "nbconvert_exporter": "python",
   "pygments_lexer": "ipython3",
   "version": "3.11.4"
  }
 },
 "nbformat": 4,
 "nbformat_minor": 5
}
